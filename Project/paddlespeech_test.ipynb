{
 "cells": [
  {
   "cell_type": "markdown",
   "metadata": {},
   "source": [
    "# 语音识别"
   ]
  },
  {
   "cell_type": "code",
   "execution_count": 2,
   "metadata": {},
   "outputs": [
    {
     "name": "stdout",
     "output_type": "stream",
     "text": [
      "\u001b[32m2023-09-18 16:00:35.163\u001b[0m | \u001b[1mINFO    \u001b[0m | \u001b[36mpaddlespeech.s2t.modules.embedding\u001b[0m:\u001b[36m__init__\u001b[0m:\u001b[36m150\u001b[0m - \u001b[1mmax len: 5000\u001b[0m\n"
     ]
    },
    {
     "name": "stderr",
     "output_type": "stream",
     "text": [
      "c:\\Users\\MSI-NB\\.conda\\envs\\llm_tutor\\lib\\site-packages\\paddle\\fluid\\dygraph\\math_op_patch.py:275: UserWarning: The dtype of left and right variables are not the same, left dtype is paddle.int64, but right dtype is paddle.bool, the right dtype will convert to paddle.int64\n",
      "  warnings.warn(\n"
     ]
    },
    {
     "name": "stdout",
     "output_type": "stream",
     "text": [
      "我认为跑步最重要的就是给我带来了身体健康 艾\n"
     ]
    }
   ],
   "source": [
    "from paddlespeech.cli.asr.infer import ASRExecutor\n",
    "asr = ASRExecutor()\n",
    "result1 = asr(audio_file=\"./wav/zh.wav\")\n",
    "# result2 = asr(audio_file=\"./wav/en.wav\")\n",
    "print(result1)"
   ]
  },
  {
   "cell_type": "markdown",
   "metadata": {},
   "source": [
    "# 语音合成"
   ]
  },
  {
   "cell_type": "code",
   "execution_count": 4,
   "metadata": {},
   "outputs": [
    {
     "name": "stderr",
     "output_type": "stream",
     "text": [
      "\u001b[32m[2023-09-20 08:50:18,442] [    INFO]\u001b[0m - Already cached C:\\Users\\MSI-NB\\.paddlenlp\\models\\bert-base-chinese\\bert-base-chinese-vocab.txt\u001b[0m\n",
      "\u001b[32m[2023-09-20 08:50:18,456] [    INFO]\u001b[0m - tokenizer config file saved in C:\\Users\\MSI-NB\\.paddlenlp\\models\\bert-base-chinese\\tokenizer_config.json\u001b[0m\n",
      "\u001b[32m[2023-09-20 08:50:18,457] [    INFO]\u001b[0m - Special tokens file saved in C:\\Users\\MSI-NB\\.paddlenlp\\models\\bert-base-chinese\\special_tokens_map.json\u001b[0m\n"
     ]
    },
    {
     "data": {
      "text/plain": [
       "'f:\\\\code\\\\口语\\\\output\\\\output.wav'"
      ]
     },
     "execution_count": 4,
     "metadata": {},
     "output_type": "execute_result"
    }
   ],
   "source": [
    "import paddle\n",
    "from paddlespeech.cli.tts.infer import TTSExecutor\n",
    "tts = TTSExecutor()\n",
    "tts(text=\"雪豹闭嘴\", output=\"./output/output.wav\")"
   ]
  },
  {
   "cell_type": "code",
   "execution_count": 3,
   "metadata": {},
   "outputs": [
    {
     "data": {
      "text/plain": [
       "'f:\\\\code\\\\口语\\\\output\\\\output.wav'"
      ]
     },
     "execution_count": 3,
     "metadata": {},
     "output_type": "execute_result"
    }
   ],
   "source": []
  }
 ],
 "metadata": {
  "kernelspec": {
   "display_name": "llm_tutor",
   "language": "python",
   "name": "python3"
  },
  "language_info": {
   "codemirror_mode": {
    "name": "ipython",
    "version": 3
   },
   "file_extension": ".py",
   "mimetype": "text/x-python",
   "name": "python",
   "nbconvert_exporter": "python",
   "pygments_lexer": "ipython3",
   "version": "3.8.18"
  },
  "orig_nbformat": 4
 },
 "nbformat": 4,
 "nbformat_minor": 2
}
